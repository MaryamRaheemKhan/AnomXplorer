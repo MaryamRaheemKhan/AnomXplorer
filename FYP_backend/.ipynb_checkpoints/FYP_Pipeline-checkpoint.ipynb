{
 "cells": [
  {
   "cell_type": "code",
   "execution_count": 1,
   "id": "682e209e-8d36-4395-8aa6-48e4e3b82b14",
   "metadata": {},
   "outputs": [],
   "source": [
    "import pandas as pd"
   ]
  },
  {
   "cell_type": "code",
   "execution_count": 14,
   "id": "02e4964b-a77d-4532-bfa8-701a063e65c7",
   "metadata": {},
   "outputs": [
    {
     "name": "stdin",
     "output_type": "stream",
     "text": [
      " 113, Imad, 23, M, 2022-08-26, 9, 2022-08-29, 25000, 20000, 2022-08-2\n"
     ]
    },
    {
     "name": "stdout",
     "output_type": "stream",
     "text": [
      "  PT_ID  PT_ADMISSION  PT_DISCHARGE PT_CHARGESAMOUNT PT_ADVANCEAMOUNT  \\\n",
      "0   113    1661472000    1661731200            25000            20000   \n",
      "\n",
      "   PT_BILLDATE  Anomaly  \n",
      "0   1659398400      0.0  \n"
     ]
    },
    {
     "ename": "TypeError",
     "evalue": "TopLevelMongoModel.save() got an unexpected keyword argument 'exclude'",
     "output_type": "error",
     "traceback": [
      "\u001b[1;31m---------------------------------------------------------------------------\u001b[0m",
      "\u001b[1;31mTypeError\u001b[0m                                 Traceback (most recent call last)",
      "Cell \u001b[1;32mIn[14], line 55\u001b[0m\n\u001b[0;32m     52\u001b[0m predicted_entry \u001b[38;5;241m=\u001b[39m PredictedDataEntry(\u001b[38;5;241m*\u001b[39m\u001b[38;5;241m*\u001b[39mpredicted_data_entry)\n\u001b[0;32m     54\u001b[0m \u001b[38;5;66;03m# Save the instance to MongoDB\u001b[39;00m\n\u001b[1;32m---> 55\u001b[0m \u001b[43mpredicted_entry\u001b[49m\u001b[38;5;241;43m.\u001b[39;49m\u001b[43msave\u001b[49m\u001b[43m(\u001b[49m\u001b[43mexclude\u001b[49m\u001b[38;5;241;43m=\u001b[39;49m\u001b[43m[\u001b[49m\u001b[38;5;124;43m'\u001b[39;49m\u001b[38;5;124;43m_cls\u001b[39;49m\u001b[38;5;124;43m'\u001b[39;49m\u001b[43m]\u001b[49m\u001b[43m)\u001b[49m\n\u001b[0;32m     57\u001b[0m \u001b[38;5;66;03m# Print the ID of the saved document\u001b[39;00m\n\u001b[0;32m     58\u001b[0m \u001b[38;5;28mprint\u001b[39m(\u001b[38;5;124m\"\u001b[39m\u001b[38;5;124mData entry saved with ID:\u001b[39m\u001b[38;5;124m\"\u001b[39m, predicted_entry\u001b[38;5;241m.\u001b[39m_id)\n",
      "\u001b[1;31mTypeError\u001b[0m: TopLevelMongoModel.save() got an unexpected keyword argument 'exclude'"
     ]
    }
   ],
   "source": [
    "%run \"FYP_Preprocessing.ipynb\"\n",
    "\n",
    "#taking input log entry\n",
    "pt_id, pt_name, pt_age, pt_gender, pt_admission, pt_admitby, pt_discharge, pt_chargesamount, pt_advanceamount, pt_billdate = input().split(',')\n",
    "\n",
    "input_data_entry = {\n",
    "    'PT_ID': pt_id,\n",
    "    'PT_NAME': pt_name,\n",
    "    'PT_AGE': pt_age,\n",
    "    'PT_GENDER': pt_gender,\n",
    "    'PT_ADMISSION': pt_admission,\n",
    "    'PT_ADMITBY': pt_admitby,\n",
    "    'PT_DISCHARGE': pt_discharge,\n",
    "    'PT_CHARGESAMOUNT': pt_chargesamount,\n",
    "    'PT_ADVANCEAMOUNT': pt_advanceamount,\n",
    "    'PT_BILLDATE': pt_billdate\n",
    "}\n",
    "\n",
    "input_data = pd.DataFrame(input_data_entry, index=[0])\n",
    "\n",
    "#preprocessing log entry\n",
    "preprocessed_data = preprocess_data(input_data)\n",
    "\n",
    "%run \"FYP_Model.ipynb\"\n",
    "\n",
    "# Loading the trained model\n",
    "model = load_model()\n",
    "\n",
    "# Predicting anomalies for the input data entry\n",
    "predicted_data_entry = predict_anomlay(model, preprocessed_data)\n",
    "print(predicted_data_entry)\n",
    "\n",
    "from pymodm import connect, MongoModel, fields\n",
    "\n",
    "# Connect to MongoDB\n",
    "connect('mongodb://localhost:27017/mydb')\n",
    "\n",
    "# Define a PyMODM model\n",
    "class PredictedDataEntry(MongoModel):\n",
    "    PT_ID = fields.IntegerField()\n",
    "    PT_ADMISSION = fields.IntegerField()\n",
    "    PT_DISCHARGE = fields.IntegerField()\n",
    "    PT_CHARGESAMOUNT = fields.IntegerField()\n",
    "    PT_ADVANCEAMOUNT = fields.IntegerField()\n",
    "    PT_BILLDATE = fields.IntegerField()\n",
    "    Anomaly = fields.IntegerField()\n",
    "\n",
    "    class Meta:\n",
    "        collection_name = 'PredictedData'  # Specify the collection name\n",
    "\n",
    "# Create an instance of the model with the predicted data entry\n",
    "predicted_entry = PredictedDataEntry(**predicted_data_entry)\n",
    "\n",
    "# Save the instance to MongoDB\n",
    "predicted_entry.save()\n",
    "\n",
    "# Print the ID of the saved document\n",
    "print(\"Data entry saved with ID:\", predicted_entry._id)"
   ]
  },
  {
   "cell_type": "code",
   "execution_count": null,
   "id": "5243b8c2-5b84-4108-bca2-e79beaadd575",
   "metadata": {},
   "outputs": [],
   "source": []
  }
 ],
 "metadata": {
  "kernelspec": {
   "display_name": "Python 3 (ipykernel)",
   "language": "python",
   "name": "python3"
  },
  "language_info": {
   "codemirror_mode": {
    "name": "ipython",
    "version": 3
   },
   "file_extension": ".py",
   "mimetype": "text/x-python",
   "name": "python",
   "nbconvert_exporter": "python",
   "pygments_lexer": "ipython3",
   "version": "3.12.3"
  }
 },
 "nbformat": 4,
 "nbformat_minor": 5
}
