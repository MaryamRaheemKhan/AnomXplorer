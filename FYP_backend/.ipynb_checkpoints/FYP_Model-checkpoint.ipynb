{
 "cells": [
  {
   "cell_type": "code",
   "execution_count": 11,
   "id": "25c159c7-75bf-441b-b77c-282b235b6312",
   "metadata": {},
   "outputs": [],
   "source": [
    "import pandas as pd\n",
    "from sklearn.tree import DecisionTreeClassifier\n",
    "from sklearn.model_selection import train_test_split\n",
    "from sklearn.metrics import classification_report\n",
    "import numpy as np\n",
    "import matplotlib.pyplot as plt\n",
    "import seaborn as sns\n",
    "from imblearn.over_sampling import SMOTE"
   ]
  },
  {
   "cell_type": "code",
   "execution_count": 12,
   "id": "0cba1f0c-5de3-4046-acb5-d0b1cc5bf2af",
   "metadata": {},
   "outputs": [],
   "source": [
    "def load_model():\n",
    "  df = pd.read_csv('labeled_data.csv')\n",
    "\n",
    "  df['Anomaly'] = df['Anomaly'].astype(float)\n",
    "\n",
    "  X = df.drop(['Anomaly'], axis=1)\n",
    "  y =df['Anomaly']\n",
    "  X_train, X_test, y_train, y_test = train_test_split(X, y, test_size=0.1, random_state=42)\n",
    "  smote = SMOTE(random_state=42)\n",
    "  X_train_balanced, y_train_balanced = smote.fit_resample(X_train, y_train)\n",
    "\n",
    "  model = DecisionTreeClassifier (max_depth=3, random_state=42)\n",
    "  model.fit(X_train_balanced, y_train_balanced)\n",
    "  return model"
   ]
  },
  {
   "cell_type": "code",
   "execution_count": 13,
   "id": "2c1479b1-6f67-4408-8664-37bd6b4e51cb",
   "metadata": {},
   "outputs": [],
   "source": [
    "def predict_anomlay(model, preprocessed_data):\n",
    "  prediction = model.predict(preprocessed_data)\n",
    "  preprocessed_data['Anomaly'] = prediction\n",
    "  return preprocessed_data"
   ]
  },
  {
   "cell_type": "code",
   "execution_count": null,
   "id": "a6b4654c-f817-4424-8c35-5ce6a5393775",
   "metadata": {},
   "outputs": [],
   "source": []
  }
 ],
 "metadata": {
  "kernelspec": {
   "display_name": "Python 3 (ipykernel)",
   "language": "python",
   "name": "python3"
  },
  "language_info": {
   "codemirror_mode": {
    "name": "ipython",
    "version": 3
   },
   "file_extension": ".py",
   "mimetype": "text/x-python",
   "name": "python",
   "nbconvert_exporter": "python",
   "pygments_lexer": "ipython3",
   "version": "3.12.3"
  }
 },
 "nbformat": 4,
 "nbformat_minor": 5
}
