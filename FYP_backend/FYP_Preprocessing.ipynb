{
 "cells": [
  {
   "cell_type": "code",
   "execution_count": 1,
   "id": "41feb9d4-b069-471e-9855-7971f782e516",
   "metadata": {},
   "outputs": [],
   "source": [
    "import numpy as np\n",
    "import pandas as pd"
   ]
  },
  {
   "cell_type": "code",
   "execution_count": 2,
   "id": "79c74006-641e-4b4b-a696-28929ecfdacc",
   "metadata": {},
   "outputs": [],
   "source": [
    "def preprocess_data(data):\n",
    "\n",
    "  columns_to_drop = ['PT_NAME','PT_AGE', 'PT_GENDER', 'PT_ADMITBY']\n",
    "  data.drop(columns=columns_to_drop, inplace=True)\n",
    "\n",
    "  data.dropna(subset = ['PT_ADMISSION', 'PT_DISCHARGE', 'PT_BILLDATE', 'PT_ID', 'PT_CHARGESAMOUNT', 'PT_ADVANCEAMOUNT'], inplace = True, axis = 0)\n",
    "\n",
    "  data['PT_ADMISSION'] = pd.to_datetime(data['PT_ADMISSION'], errors='coerce')\n",
    "  data['PT_ADMISSION'] = (data['PT_ADMISSION'] - pd.Timestamp(\"1970-01-01\")) // pd.Timedelta(seconds=1)\n",
    "\n",
    "  data['PT_BILLDATE'] = pd.to_datetime(data['PT_BILLDATE'], errors='coerce')\n",
    "  data['PT_BILLDATE'] = (data['PT_BILLDATE'] - pd.Timestamp(\"1970-01-01\")) // pd.Timedelta(seconds=1)\n",
    "\n",
    "  data['PT_DISCHARGE'] = pd.to_datetime(data['PT_DISCHARGE'], errors='coerce')\n",
    "  data['PT_DISCHARGE'] = (data['PT_DISCHARGE'] - pd.Timestamp(\"1970-01-01\")) // pd.Timedelta(seconds=1)\n",
    "\n",
    "  data.reset_index(drop = True, inplace = True)\n",
    "  data = data.dropna(how = 'any')\n",
    "  return data"
   ]
  },
  {
   "cell_type": "code",
   "execution_count": null,
   "id": "8eb36b37-df15-4b83-ab47-2a8cf5385fc3",
   "metadata": {},
   "outputs": [],
   "source": []
  }
 ],
 "metadata": {
  "kernelspec": {
   "display_name": "Python 3 (ipykernel)",
   "language": "python",
   "name": "python3"
  },
  "language_info": {
   "codemirror_mode": {
    "name": "ipython",
    "version": 3
   },
   "file_extension": ".py",
   "mimetype": "text/x-python",
   "name": "python",
   "nbconvert_exporter": "python",
   "pygments_lexer": "ipython3",
   "version": "3.12.3"
  }
 },
 "nbformat": 4,
 "nbformat_minor": 5
}
