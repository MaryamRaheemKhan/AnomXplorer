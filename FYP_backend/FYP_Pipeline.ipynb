{
 "cells": [
  {
   "cell_type": "code",
   "execution_count": 1,
   "id": "682e209e-8d36-4395-8aa6-48e4e3b82b14",
   "metadata": {},
   "outputs": [],
   "source": [
    "import pandas as pd"
   ]
  },
  {
   "cell_type": "code",
   "execution_count": 15,
   "id": "02e4964b-a77d-4532-bfa8-701a063e65c7",
   "metadata": {},
   "outputs": [
    {
     "ename": "KeyboardInterrupt",
     "evalue": "Interrupted by user",
     "output_type": "error",
     "traceback": [
      "\u001b[1;31m---------------------------------------------------------------------------\u001b[0m",
      "\u001b[1;31mKeyboardInterrupt\u001b[0m                         Traceback (most recent call last)",
      "Cell \u001b[1;32mIn[15], line 4\u001b[0m\n\u001b[0;32m      1\u001b[0m get_ipython()\u001b[38;5;241m.\u001b[39mrun_line_magic(\u001b[38;5;124m'\u001b[39m\u001b[38;5;124mrun\u001b[39m\u001b[38;5;124m'\u001b[39m, \u001b[38;5;124m'\u001b[39m\u001b[38;5;124m\"\u001b[39m\u001b[38;5;124mFYP_Preprocessing.ipynb\u001b[39m\u001b[38;5;124m\"\u001b[39m\u001b[38;5;124m'\u001b[39m)\n\u001b[0;32m      3\u001b[0m \u001b[38;5;66;03m#taking input log entry\u001b[39;00m\n\u001b[1;32m----> 4\u001b[0m pt_id, pt_name, pt_age, pt_gender, pt_admission, pt_admitby, pt_discharge, pt_chargesamount, pt_advanceamount, pt_billdate \u001b[38;5;241m=\u001b[39m \u001b[38;5;28;43minput\u001b[39;49m\u001b[43m(\u001b[49m\u001b[43m)\u001b[49m\u001b[38;5;241m.\u001b[39msplit(\u001b[38;5;124m'\u001b[39m\u001b[38;5;124m,\u001b[39m\u001b[38;5;124m'\u001b[39m)\n\u001b[0;32m      6\u001b[0m input_data_entry \u001b[38;5;241m=\u001b[39m {\n\u001b[0;32m      7\u001b[0m     \u001b[38;5;124m'\u001b[39m\u001b[38;5;124mPT_ID\u001b[39m\u001b[38;5;124m'\u001b[39m: pt_id,\n\u001b[0;32m      8\u001b[0m     \u001b[38;5;124m'\u001b[39m\u001b[38;5;124mPT_NAME\u001b[39m\u001b[38;5;124m'\u001b[39m: pt_name,\n\u001b[1;32m   (...)\u001b[0m\n\u001b[0;32m     16\u001b[0m     \u001b[38;5;124m'\u001b[39m\u001b[38;5;124mPT_BILLDATE\u001b[39m\u001b[38;5;124m'\u001b[39m: pt_billdate\n\u001b[0;32m     17\u001b[0m }\n\u001b[0;32m     19\u001b[0m input_data \u001b[38;5;241m=\u001b[39m pd\u001b[38;5;241m.\u001b[39mDataFrame(input_data_entry, index\u001b[38;5;241m=\u001b[39m[\u001b[38;5;241m0\u001b[39m])\n",
      "File \u001b[1;32m~\\AppData\\Local\\Programs\\Python\\Python312\\Lib\\site-packages\\ipykernel\\kernelbase.py:1282\u001b[0m, in \u001b[0;36mKernel.raw_input\u001b[1;34m(self, prompt)\u001b[0m\n\u001b[0;32m   1280\u001b[0m     msg \u001b[38;5;241m=\u001b[39m \u001b[38;5;124m\"\u001b[39m\u001b[38;5;124mraw_input was called, but this frontend does not support input requests.\u001b[39m\u001b[38;5;124m\"\u001b[39m\n\u001b[0;32m   1281\u001b[0m     \u001b[38;5;28;01mraise\u001b[39;00m StdinNotImplementedError(msg)\n\u001b[1;32m-> 1282\u001b[0m \u001b[38;5;28;01mreturn\u001b[39;00m \u001b[38;5;28;43mself\u001b[39;49m\u001b[38;5;241;43m.\u001b[39;49m\u001b[43m_input_request\u001b[49m\u001b[43m(\u001b[49m\n\u001b[0;32m   1283\u001b[0m \u001b[43m    \u001b[49m\u001b[38;5;28;43mstr\u001b[39;49m\u001b[43m(\u001b[49m\u001b[43mprompt\u001b[49m\u001b[43m)\u001b[49m\u001b[43m,\u001b[49m\n\u001b[0;32m   1284\u001b[0m \u001b[43m    \u001b[49m\u001b[38;5;28;43mself\u001b[39;49m\u001b[38;5;241;43m.\u001b[39;49m\u001b[43m_parent_ident\u001b[49m\u001b[43m[\u001b[49m\u001b[38;5;124;43m\"\u001b[39;49m\u001b[38;5;124;43mshell\u001b[39;49m\u001b[38;5;124;43m\"\u001b[39;49m\u001b[43m]\u001b[49m\u001b[43m,\u001b[49m\n\u001b[0;32m   1285\u001b[0m \u001b[43m    \u001b[49m\u001b[38;5;28;43mself\u001b[39;49m\u001b[38;5;241;43m.\u001b[39;49m\u001b[43mget_parent\u001b[49m\u001b[43m(\u001b[49m\u001b[38;5;124;43m\"\u001b[39;49m\u001b[38;5;124;43mshell\u001b[39;49m\u001b[38;5;124;43m\"\u001b[39;49m\u001b[43m)\u001b[49m\u001b[43m,\u001b[49m\n\u001b[0;32m   1286\u001b[0m \u001b[43m    \u001b[49m\u001b[43mpassword\u001b[49m\u001b[38;5;241;43m=\u001b[39;49m\u001b[38;5;28;43;01mFalse\u001b[39;49;00m\u001b[43m,\u001b[49m\n\u001b[0;32m   1287\u001b[0m \u001b[43m\u001b[49m\u001b[43m)\u001b[49m\n",
      "File \u001b[1;32m~\\AppData\\Local\\Programs\\Python\\Python312\\Lib\\site-packages\\ipykernel\\kernelbase.py:1325\u001b[0m, in \u001b[0;36mKernel._input_request\u001b[1;34m(self, prompt, ident, parent, password)\u001b[0m\n\u001b[0;32m   1322\u001b[0m \u001b[38;5;28;01mexcept\u001b[39;00m \u001b[38;5;167;01mKeyboardInterrupt\u001b[39;00m:\n\u001b[0;32m   1323\u001b[0m     \u001b[38;5;66;03m# re-raise KeyboardInterrupt, to truncate traceback\u001b[39;00m\n\u001b[0;32m   1324\u001b[0m     msg \u001b[38;5;241m=\u001b[39m \u001b[38;5;124m\"\u001b[39m\u001b[38;5;124mInterrupted by user\u001b[39m\u001b[38;5;124m\"\u001b[39m\n\u001b[1;32m-> 1325\u001b[0m     \u001b[38;5;28;01mraise\u001b[39;00m \u001b[38;5;167;01mKeyboardInterrupt\u001b[39;00m(msg) \u001b[38;5;28;01mfrom\u001b[39;00m \u001b[38;5;28;01mNone\u001b[39;00m\n\u001b[0;32m   1326\u001b[0m \u001b[38;5;28;01mexcept\u001b[39;00m \u001b[38;5;167;01mException\u001b[39;00m:\n\u001b[0;32m   1327\u001b[0m     \u001b[38;5;28mself\u001b[39m\u001b[38;5;241m.\u001b[39mlog\u001b[38;5;241m.\u001b[39mwarning(\u001b[38;5;124m\"\u001b[39m\u001b[38;5;124mInvalid Message:\u001b[39m\u001b[38;5;124m\"\u001b[39m, exc_info\u001b[38;5;241m=\u001b[39m\u001b[38;5;28;01mTrue\u001b[39;00m)\n",
      "\u001b[1;31mKeyboardInterrupt\u001b[0m: Interrupted by user"
     ]
    }
   ],
   "source": [
    "%run \"FYP_Preprocessing.ipynb\"\n",
    "\n",
    "#taking input log entry\n",
    "pt_id, pt_name, pt_age, pt_gender, pt_admission, pt_admitby, pt_discharge, pt_chargesamount, pt_advanceamount, pt_billdate = input().split(',')\n",
    "\n",
    "input_data_entry = {\n",
    "    'PT_ID': pt_id,\n",
    "    'PT_NAME': pt_name,\n",
    "    'PT_AGE': pt_age,\n",
    "    'PT_GENDER': pt_gender,\n",
    "    'PT_ADMISSION': pt_admission,\n",
    "    'PT_ADMITBY': pt_admitby,\n",
    "    'PT_DISCHARGE': pt_discharge,\n",
    "    'PT_CHARGESAMOUNT': pt_chargesamount,\n",
    "    'PT_ADVANCEAMOUNT': pt_advanceamount,\n",
    "    'PT_BILLDATE': pt_billdate\n",
    "}\n",
    "\n",
    "input_data = pd.DataFrame(input_data_entry, index=[0])\n",
    "\n",
    "#preprocessing log entry\n",
    "preprocessed_data = preprocess_data(input_data)\n",
    "\n",
    "%run \"FYP_Model.ipynb\"\n",
    "\n",
    "# Loading the trained model\n",
    "model = load_model()\n",
    "\n",
    "# Predicting anomalies for the input data entry\n",
    "predicted_data_entry = predict_anomlay(model, preprocessed_data)\n",
    "print(predicted_data_entry)\n",
    "\n",
    "from pymodm import connect, MongoModel, fields\n",
    "\n",
    "# Connect to MongoDB\n",
    "connect('mongodb://localhost:27017/mydb')\n",
    "\n",
    "# Define a PyMODM model\n",
    "class PredictedDataEntry(MongoModel):\n",
    "    PT_ID = fields.IntegerField()\n",
    "    PT_ADMISSION = fields.IntegerField()\n",
    "    PT_DISCHARGE = fields.IntegerField()\n",
    "    PT_CHARGESAMOUNT = fields.IntegerField()\n",
    "    PT_ADVANCEAMOUNT = fields.IntegerField()\n",
    "    PT_BILLDATE = fields.IntegerField()\n",
    "    Anomaly = fields.IntegerField()\n",
    "\n",
    "    class Meta:\n",
    "        collection_name = 'PredictedData'  # Specify the collection name\n",
    "\n",
    "# Create an instance of the model with the predicted data entry\n",
    "predicted_entry = PredictedDataEntry(**predicted_data_entry)\n",
    "\n",
    "# Save the instance to MongoDB\n",
    "predicted_entry.save()\n",
    "\n",
    "# Print the ID of the saved document\n",
    "print(\"Data entry saved with ID:\", predicted_entry._id)"
   ]
  },
  {
   "cell_type": "code",
   "execution_count": null,
   "id": "5243b8c2-5b84-4108-bca2-e79beaadd575",
   "metadata": {},
   "outputs": [],
   "source": []
  }
 ],
 "metadata": {
  "kernelspec": {
   "display_name": "Python 3 (ipykernel)",
   "language": "python",
   "name": "python3"
  },
  "language_info": {
   "codemirror_mode": {
    "name": "ipython",
    "version": 3
   },
   "file_extension": ".py",
   "mimetype": "text/x-python",
   "name": "python",
   "nbconvert_exporter": "python",
   "pygments_lexer": "ipython3",
   "version": "3.12.3"
  }
 },
 "nbformat": 4,
 "nbformat_minor": 5
}
